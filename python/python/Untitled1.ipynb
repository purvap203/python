{
 "cells": [
  {
   "cell_type": "code",
   "execution_count": 1,
   "metadata": {},
   "outputs": [
    {
     "name": "stdout",
     "output_type": "stream",
     "text": [
      "1 \t\n",
      "2 \t2 \t\n",
      "3 \t3 \t3 \t\n",
      "4 \t4 \t4 \t4 \t\n",
      "5 \t5 \t5 \t5 \t5 \t\n"
     ]
    }
   ],
   "source": [
    "for i in range(1, 6):\n",
    "    for j in range(1, i+1):\n",
    "        print(i, '\\t', end='')\n",
    "    \n",
    "    print('')"
   ]
  },
  {
   "cell_type": "code",
   "execution_count": 27,
   "metadata": {},
   "outputs": [
    {
     "name": "stdout",
     "output_type": "stream",
     "text": [
      "1  \n",
      "4 4  \n",
      "9 9 9  \n"
     ]
    }
   ],
   "source": [
    "for i in range(1, 4):\n",
    "    for k in range(1, i+1):\n",
    "        print(i*i,  end=' ')\n",
    "    for j in range(1, i-2):\n",
    "        print(i*i, end='')\n",
    "    \n",
    "    print(' ')"
   ]
  },
  {
   "cell_type": "code",
   "execution_count": 82,
   "metadata": {},
   "outputs": [
    {
     "name": "stdout",
     "output_type": "stream",
     "text": [
      "1 1 1  \n",
      "  4 4  \n",
      "    9  \n"
     ]
    }
   ],
   "source": [
    "for i in range(1, 4):\n",
    "    for k in range(1, i):\n",
    "        print(' ',end=' ')\n",
    "        #print(' ')\n",
    "    for j in range(1, 5-i):\n",
    "        print(i*i, end=' ')\n",
    "    print(' ')"
   ]
  },
  {
   "cell_type": "code",
   "execution_count": null,
   "metadata": {},
   "outputs": [],
   "source": []
  }
 ],
 "metadata": {
  "kernelspec": {
   "display_name": "Python 3",
   "language": "python",
   "name": "python3"
  },
  "language_info": {
   "codemirror_mode": {
    "name": "ipython",
    "version": 3
   },
   "file_extension": ".py",
   "mimetype": "text/x-python",
   "name": "python",
   "nbconvert_exporter": "python",
   "pygments_lexer": "ipython3",
   "version": "3.6.8"
  }
 },
 "nbformat": 4,
 "nbformat_minor": 2
}
