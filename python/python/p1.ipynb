{
 "cells": [
  {
   "cell_type": "code",
   "execution_count": 1,
   "metadata": {
    "scrolled": true
   },
   "outputs": [
    {
     "name": "stdout",
     "output_type": "stream",
     "text": [
      "214\n"
     ]
    }
   ],
   "source": [
    "add = 0\n",
    "\n",
    "for i in range(3, 26):\n",
    "    if i % 3 != 0:\n",
    "        add = add + i\n",
    "print(add)  "
   ]
  },
  {
   "cell_type": "code",
   "execution_count": 2,
   "metadata": {
    "scrolled": true
   },
   "outputs": [
    {
     "name": "stdout",
     "output_type": "stream",
     "text": [
      "3\n",
      "4\n",
      "5\n",
      "6\n",
      "7\n",
      "8\n",
      "9\n",
      "10\n",
      "11\n",
      "12\n",
      "13\n",
      "14\n",
      "15\n",
      "16\n",
      "17\n",
      "18\n",
      "19\n"
     ]
    }
   ],
   "source": [
    "x = range(3, 20)\n",
    "\n",
    "for n in x:\n",
    "    print(n)\n"
   ]
  },
  {
   "cell_type": "code",
   "execution_count": 3,
   "metadata": {},
   "outputs": [
    {
     "name": "stdout",
     "output_type": "stream",
     "text": [
      "9\n"
     ]
    }
   ],
   "source": [
    "count = 0\n",
    "for i in range(7, 51):\n",
    "    if i % 5 == 0:\n",
    "        count = count + 1\n",
    "print(count)        "
   ]
  },
  {
   "cell_type": "code",
   "execution_count": 3,
   "metadata": {},
   "outputs": [
    {
     "name": "stdout",
     "output_type": "stream",
     "text": [
      "enter the marks of maths: 77\n",
      "enter the marks of physics: 88\n",
      "enter the marks of chemistry: 55\n",
      "enter the marks of english: 44\n",
      "enter the marks of computer: 44\n",
      "308.0\n",
      "61.6\n",
      "first class\n"
     ]
    }
   ],
   "source": [
    "maths = float(input('enter the marks of maths: '));\n",
    "phy = float(input('enter the marks of physics: '));\n",
    "chem = float(input('enter the marks of chemistry: '));\n",
    "eng = float(input('enter the marks of english: '));\n",
    "com = float(input('enter the marks of computer: '));\n",
    "\n",
    "total = maths + phy + chem + eng + com;\n",
    "per = total/5;\n",
    "print(total)\n",
    "print(per)\n",
    "if per < 35:\n",
    "    print('fail')\n",
    "elif per >= 35 and per < 60:\n",
    "        print('second class')\n",
    "elif per >= 60 and per < 70:\n",
    "        print('first class')\n",
    "else:\n",
    "    print('distinction')\n"
   ]
  },
  {
   "cell_type": "code",
   "execution_count": 4,
   "metadata": {},
   "outputs": [
    {
     "name": "stdout",
     "output_type": "stream",
     "text": [
      "enter the value of l = 1\n",
      "enter the value of b = 2\n",
      "2\n"
     ]
    }
   ],
   "source": [
    "l = int(input('enter the value of l = '))\n",
    "b = int(input('enter the value of b = '))\n",
    "a = l * b\n",
    "print(a)"
   ]
  },
  {
   "cell_type": "code",
   "execution_count": 5,
   "metadata": {},
   "outputs": [
    {
     "name": "stdout",
     "output_type": "stream",
     "text": [
      "enter the value of l = 2\n",
      "enter the value of b = 3\n",
      "enter the value of h = 4\n",
      " value of a is =  24\n"
     ]
    }
   ],
   "source": [
    "l = int(input('enter the value of l = '))\n",
    "b = int(input('enter the value of b = '))\n",
    "h = int(input('enter the value of h = '))\n",
    "a = l * b * h\n",
    "print(' value of a is = ', +a)"
   ]
  },
  {
   "cell_type": "code",
   "execution_count": null,
   "metadata": {},
   "outputs": [],
   "source": []
  },
  {
   "cell_type": "code",
   "execution_count": null,
   "metadata": {},
   "outputs": [],
   "source": []
  },
  {
   "cell_type": "code",
   "execution_count": null,
   "metadata": {},
   "outputs": [],
   "source": []
  },
  {
   "cell_type": "code",
   "execution_count": null,
   "metadata": {},
   "outputs": [],
   "source": []
  }
 ],
 "metadata": {
  "kernelspec": {
   "display_name": "Python 3",
   "language": "python",
   "name": "python3"
  },
  "language_info": {
   "codemirror_mode": {
    "name": "ipython",
    "version": 3
   },
   "file_extension": ".py",
   "mimetype": "text/x-python",
   "name": "python",
   "nbconvert_exporter": "python",
   "pygments_lexer": "ipython3",
   "version": "3.6.8"
  }
 },
 "nbformat": 4,
 "nbformat_minor": 2
}
